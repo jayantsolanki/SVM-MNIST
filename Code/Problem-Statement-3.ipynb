{
 "cells": [
  {
   "cell_type": "code",
   "execution_count": null,
   "metadata": {},
   "outputs": [],
   "source": [
    "# Standard scientific Python imports\n",
    "# to install \n",
    "# conda install matplotlib\n",
    "import matplotlib.pyplot as plt\n",
    "import numpy as np\n",
    "from pylab import imshow, show, cm, savefig"
   ]
  },
  {
   "cell_type": "code",
   "execution_count": null,
   "metadata": {},
   "outputs": [],
   "source": [
    "# Import datasets, classifiers and performance metrics\n",
    "# to install\n",
    "# conda install -c anaconda scikit-learn\n",
    "from sklearn import datasets, svm, metrics\n",
    "from sklearn.svm import LinearSVC\n",
    "from sklearn.datasets import fetch_mldata\n",
    "from sklearn.model_selection import GridSearchCV"
   ]
  },
  {
   "cell_type": "code",
   "execution_count": null,
   "metadata": {},
   "outputs": [],
   "source": [
    "# The digits dataset\n",
    "digits = fetch_mldata('MNIST original', data_home=\"MNIST_Cache\")\n",
    "#standardising the data\n",
    "digits.data = digits.data/255\n",
    "#image we have got are already flattened into 784 pixels, instead of 28x28 pixels\n",
    "Train_Images = digits.data[0:60000,:]\n",
    "Train_labels = digits.target[0:60000,]\n",
    "Test_Images = digits.data[60000:69999,:]\n",
    "Test_labels = digits.target[60000:69999,]"
   ]
  },
  {
   "cell_type": "code",
   "execution_count": null,
   "metadata": {},
   "outputs": [],
   "source": [
    "# digits.data[1,:]\n",
    "def view_image(image, label=\"\"):\n",
    "\t\"\"\"View a single image.\"\"\"\n",
    "\tprint(\"Label: %s\" % label)\n",
    "\timshow(image, cmap=cm.gray)\n",
    "\tsavefig(str(label)+\".png\")#saving images based upon their lable as their filename\n",
    "\tshow()"
   ]
  },
  {
   "cell_type": "code",
   "execution_count": 5,
   "metadata": {},
   "outputs": [
    {
     "name": "stdout",
     "output_type": "stream",
     "text": [
      "Label: 0\n"
     ]
    },
    {
     "data": {
      "image/png": "[encoded data removed]",
      "text/plain": [
       "<matplotlib.figure.Figure at 0xc92f0d0>"
      ]
     },
     "metadata": {},
     "output_type": "display_data"
    }
   ],
   "source": [
    "# just for visualisation\n",
    "mnist_image = np.asarray(digits.data)\n",
    "mnist_label = np.asarray(digits.target)\n",
    "mnist_image =mnist_image.reshape([70000,28,28])\n",
    "# for index, (image, label) in enumerate(images_and_labels[:4]):\n",
    "#     plt.subplot(2, 4, index + 1)\n",
    "#     plt.axis('off')\n",
    "#     plt.imshow(image, cmap=plt.cm.gray_r, interpolation='nearest')\n",
    "#     plt.title('Training: %i' % label)\n",
    "# images_and_labels\n",
    "view_image(mnist_image[0,:,:], int(mnist_label[0]))#just for visualising"
   ]
  },
  {
   "cell_type": "code",
   "execution_count": 13,
   "metadata": {},
   "outputs": [
    {
     "name": "stdout",
     "output_type": "stream",
     "text": [
      "# Tuning hyper-parameters for precision\n",
      "\n",
      "Best parameters set found on development set:\n",
      "\n",
      "{'C': 1}\n",
      "\n",
      "Grid scores on development set:\n",
      "\n",
      "0.906 (+/-0.001) for {'C': 1}\n",
      "0.905 (+/-0.001) for {'C': 2}\n",
      "0.900 (+/-0.004) for {'C': 5}\n",
      "0.892 (+/-0.001) for {'C': 10}\n",
      "0.883 (+/-0.010) for {'C': 20}\n",
      "\n",
      "Detailed classification report:\n",
      "\n",
      "The model is trained on the full development set.\n",
      "The scores are computed on the full evaluation set.\n",
      "\n",
      "             precision    recall  f1-score   support\n",
      "\n",
      "        0.0       0.95      0.98      0.96       980\n",
      "        1.0       0.96      0.98      0.97      1135\n",
      "        2.0       0.93      0.88      0.91      1032\n",
      "        3.0       0.90      0.91      0.90      1010\n",
      "        4.0       0.92      0.93      0.92       982\n",
      "        5.0       0.89      0.86      0.87       892\n",
      "        6.0       0.93      0.95      0.94       958\n",
      "        7.0       0.92      0.92      0.92      1028\n",
      "        8.0       0.88      0.87      0.87       974\n",
      "        9.0       0.90      0.89      0.89      1008\n",
      "\n",
      "avg / total       0.92      0.92      0.92      9999\n",
      "\n",
      "\n"
     ]
    }
   ],
   "source": [
    "# Setting the parameter by cross-validation for precision\n",
    "tuned_parameters = [{'C': [1, 2, 5, 10, 20]}]# set of regularisers is defined here\n",
    "print(\"# Tuning hyper-parameters for %s\" % \"precision\")# for precision\n",
    "print()\n",
    "# Create a classifier: a support vector classifier\n",
    "clf = GridSearchCV(LinearSVC(), tuned_parameters, cv = 2,\n",
    "                   scoring='%s_macro' % \"precision\")\n",
    "clf.fit(Train_Images, Train_labels)\n",
    "print(\"Best parameters set found on development set:\")\n",
    "print()\n",
    "print(clf.best_params_)\n",
    "print()\n",
    "print(\"Grid scores on development set:\")\n",
    "print()\n",
    "means = clf.cv_results_['mean_test_score']\n",
    "stds = clf.cv_results_['std_test_score']\n",
    "for mean, std, params in zip(means, stds, clf.cv_results_['params']):\n",
    "    print(\"%0.3f (+/-%0.03f) for %r\"\n",
    "          % (mean, std * 2, params))\n",
    "print()\n",
    "print(\"Detailed classification report:\")\n",
    "print()\n",
    "print(\"The model is trained on the full development set.\")\n",
    "print(\"The scores are computed on the full evaluation set.\")\n",
    "print()\n",
    "y_true, y_pred = Test_labels, clf.predict(Test_Images)\n",
    "print(metrics.classification_report(y_true, y_pred))\n",
    "print()\n"
   ]
  },
  {
   "cell_type": "code",
   "execution_count": 16,
   "metadata": {},
   "outputs": [
    {
     "name": "stdout",
     "output_type": "stream",
     "text": [
      "# Tuning hyper-parameters for recall\n",
      "\n",
      "Best parameters set found on development set:\n",
      "\n",
      "{'C': 1}\n",
      "\n",
      "Grid scores on development set:\n",
      "\n",
      "0.906 (+/-0.001) for {'C': 1}\n",
      "0.905 (+/-0.000) for {'C': 2}\n",
      "0.901 (+/-0.001) for {'C': 5}\n",
      "0.894 (+/-0.001) for {'C': 10}\n",
      "0.885 (+/-0.006) for {'C': 20}\n",
      "\n",
      "Detailed classification report:\n",
      "\n",
      "The model is trained on the full development set.\n",
      "The scores are computed on the full evaluation set.\n",
      "\n",
      "             precision    recall  f1-score   support\n",
      "\n",
      "        0.0       0.95      0.98      0.96       980\n",
      "        1.0       0.96      0.98      0.97      1135\n",
      "        2.0       0.93      0.88      0.91      1032\n",
      "        3.0       0.90      0.91      0.90      1010\n",
      "        4.0       0.92      0.93      0.92       982\n",
      "        5.0       0.89      0.86      0.87       892\n",
      "        6.0       0.93      0.95      0.94       958\n",
      "        7.0       0.92      0.92      0.92      1028\n",
      "        8.0       0.87      0.87      0.87       974\n",
      "        9.0       0.90      0.89      0.89      1008\n",
      "\n",
      "avg / total       0.92      0.92      0.92      9999\n",
      "\n",
      "\n"
     ]
    }
   ],
   "source": [
    "# Setting the parameter by cross-validation for recall\n",
    "tuned_parameters = [{'C': [1, 2, 5, 10, 20]}]# set of regularisers is defined here\n",
    "print(\"# Tuning hyper-parameters for %s\" % \"recall\")# for precision\n",
    "print()\n",
    "# Create a classifier: a support vector classifier with Linear Kernel\n",
    "clf = GridSearchCV(LinearSVC(), tuned_parameters, cv = 2,\n",
    "                   scoring='%s_macro' % \"recall\")\n",
    "clf.fit(Train_Images, Train_labels)\n",
    "print(\"Best parameters set found on development set:\")\n",
    "print()\n",
    "print(clf.best_params_)\n",
    "print()\n",
    "print(\"Grid scores on development set:\")\n",
    "print()\n",
    "means = clf.cv_results_['mean_test_score']\n",
    "stds = clf.cv_results_['std_test_score']\n",
    "for mean, std, params in zip(means, stds, clf.cv_results_['params']):\n",
    "    print(\"%0.3f (+/-%0.03f) for %r\"\n",
    "          % (mean, std * 2, params))\n",
    "print()\n",
    "print(\"Detailed classification report:\")\n",
    "print()\n",
    "print(\"The model is trained on the full development set.\")\n",
    "print(\"The scores are computed on the full evaluation set.\")\n",
    "print()\n",
    "y_true, y_pred = Test_labels, clf.predict(Test_Images)\n",
    "print(metrics.classification_report(y_true, y_pred))\n",
    "print()"
   ]
  },
  {
   "cell_type": "code",
   "execution_count": 18,
   "metadata": {},
   "outputs": [
    {
     "data": {
      "text/plain": [
       "SVC(C=1, cache_size=200, class_weight=None, coef0=0.0,\n",
       "  decision_function_shape='ovr', degree=3, gamma='auto', kernel='linear',\n",
       "  max_iter=-1, probability=False, random_state=None, shrinking=True,\n",
       "  tol=0.001, verbose=False)"
      ]
     },
     "execution_count": 18,
     "metadata": {},
     "output_type": "execute_result"
    }
   ],
   "source": [
    "# After finding the best value for C, we run our test again to find overall accuracy\n",
    "# classifier = LinearSVC(C=1)\n",
    "classifier = svm.SVC(C=1, kernel=\"linear\")\n",
    "classifier.fit(Train_Images, Train_labels)"
   ]
  },
  {
   "cell_type": "code",
   "execution_count": 20,
   "metadata": {},
   "outputs": [],
   "source": [
    "# Now predict the value of the digit on the second half:\n",
    "expected = Test_labels\n",
    "predicted = classifier.predict(Test_Images)"
   ]
  },
  {
   "cell_type": "code",
   "execution_count": 22,
   "metadata": {},
   "outputs": [
    {
     "name": "stdout",
     "output_type": "stream",
     "text": [
      "Classification report for classifier SVC(C=1, cache_size=200, class_weight=None, coef0=0.0,\n",
      "  decision_function_shape='ovr', degree=3, gamma='auto', kernel='linear',\n",
      "  max_iter=-1, probability=False, random_state=None, shrinking=True,\n",
      "  tol=0.001, verbose=False):\n",
      "0.940394039404\n",
      "\n"
     ]
    }
   ],
   "source": [
    "print(\"Classification report for classifier %s:\\n%s\\n\"\n",
    "      % (classifier, metrics.accuracy_score(expected, predicted)))"
   ]
  },
  {
   "cell_type": "code",
   "execution_count": 23,
   "metadata": {},
   "outputs": [
    {
     "name": "stdout",
     "output_type": "stream",
     "text": [
      "Confusion matrix:\n",
      "[[ 957    0    4    1    1    6    9    1    0    1]\n",
      " [   0 1122    3    2    0    1    2    1    4    0]\n",
      " [   8    6  967   11    3    3    7    8   17    2]\n",
      " [   4    3   16  947    1   16    0    9   12    2]\n",
      " [   1    1   10    1  942    2    4    2    3   16]\n",
      " [  10    4    3   36    6  803   13    1   14    2]\n",
      " [   9    2   13    1    5   16  910    1    1    0]\n",
      " [   1    8   21   10    8    1    0  957    3   19]\n",
      " [   8    4    6   25    7   26    6    7  877    8]\n",
      " [   7    7    2   11   33    4    0   18    5  921]]\n"
     ]
    }
   ],
   "source": [
    "print(\"Confusion matrix:\\n%s\" % metrics.confusion_matrix(expected, predicted))"
   ]
  }
 ],
 "metadata": {
  "kernelspec": {
   "display_name": "Python 3",
   "language": "python",
   "name": "python3"
  },
  "language_info": {
   "codemirror_mode": {
    "name": "ipython",
    "version": 3
   },
   "file_extension": ".py",
   "mimetype": "text/x-python",
   "name": "python",
   "nbconvert_exporter": "python",
   "pygments_lexer": "ipython3",
   "version": "3.6.3"
  }
 },
 "nbformat": 4,
 "nbformat_minor": 2
}
